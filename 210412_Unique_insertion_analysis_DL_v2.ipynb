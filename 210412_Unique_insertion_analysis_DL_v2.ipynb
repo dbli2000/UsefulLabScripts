{
 "cells": [
  {
   "cell_type": "markdown",
   "metadata": {},
   "source": [
    "# Unique Insertion Analysis\n",
    "\n",
    "## Overview:\n",
    "- Intended to use for counting number of unique UMIs given putative insertion reads (single-end only). \n",
    "- Reads are filtered to contain both the donor sequence and the target sequence with fuzzy string matching\n",
    "- Global parameters are at the top, files are read in as .fastq files, sample sheet gives donor/target sequence, RC, and file/sample names\n",
    "- Can also plot the distribution of UMI read counts, plot insertion site positions, and return .fastq files containing insertion reads\n",
    "- Optional parallelization across samples for faster run time\n",
    "\n",
    "## To Do:\n",
    "- Fix false UMI reads that are shifts of existing UMIs due to indels between LE and UMI in reads\n",
    "- Possibly use Gini coefficient or UMI entropy to provide a measure on the read distribution of UMIs?\n",
    "- Add paired end functionality\n",
    "- Currently does naive deduplication by UMI for insertion position, could modify to check for UMI collisions\n",
    "- Figure out why it takes a while for pool to close in parallelized counter\n",
    "- Automate .fastq generation if it would be helpful...\n",
    "\n",
    "### Modified from Alim/Makoto's original script"
   ]
  },
  {
   "cell_type": "code",
   "execution_count": 2,
   "metadata": {},
   "outputs": [],
   "source": [
    "# Parameters to modify\n",
    "\n",
    "#General Params\n",
    "UMI_start = 97 # Distance from start of donor sequence to start of UMI\n",
    "UMI_length = 6 # Length of UMI to count\n",
    "experiment_marker = \".fastq\" #File format to read in (Doesn't actually work for anything but .fastq :P )\n",
    "paired_end = False #Paired-end or single-end, still under development\n",
    "\n",
    "#Fuzzy string matching matches more reads, but also takes longer to run\n",
    "allow_errors = True # Setting for whether to allow errors in target/donor sequence match, T/F\n",
    "donor_errors = 2 # Number of errors (indels, substitions) to allow between reads and donor sequence to match\n",
    "target_errors = 3 # Number of errors (indels, substitions) to allow between reads and target sequence to match\n",
    "\n",
    "#Optional filtering for insertion position\n",
    "filter_insert_position = False # Setting for whether to threshold allowed insertion positions, T/F\n",
    "insert_pos_min = 80 # Minimum insertion position, inclusive, relative to start of donor if filtering on\n",
    "insert_pos_max = 100  # Maximum insertion position, inclusive, relative to start of donor if filtering on"
   ]
  },
  {
   "cell_type": "code",
   "execution_count": 3,
   "metadata": {},
   "outputs": [],
   "source": [
    "#Import helpful packages\n",
    "import csv\n",
    "import itertools\n",
    "import sys\n",
    "import os\n",
    "import math\n",
    "import numpy as np\n",
    "from tqdm.notebook import tnrange, tqdm_notebook, tqdm\n",
    "\n",
    "#Packages for data analysis and plotting\n",
    "import pandas as pd\n",
    "import seaborn as sns\n",
    "import matplotlib.pyplot as plt\n",
    "\n",
    "#Packages for sequence parsing\n",
    "import regex as re #Different from re from Alim's script, allows fuzzy matching\n",
    "from Bio import SeqIO\n",
    "\n",
    "#Packages for parallelization\n",
    "from multiprocess import Pool\n",
    "import psutil\n",
    "from functools import partial"
   ]
  },
  {
   "cell_type": "markdown",
   "metadata": {},
   "source": [
    "## Helper Functions"
   ]
  },
  {
   "cell_type": "code",
   "execution_count": 4,
   "metadata": {},
   "outputs": [],
   "source": [
    "def sort_R_file(file_list):\n",
    "    '''\n",
    "    Sorts read files by name to determine forward/reverse read (relevant for paired end)\n",
    "    '''\n",
    "    sorted_list = ['','']\n",
    "    for file in file_list:\n",
    "        if 'R1_' in file:\n",
    "            sorted_list[0] = file\n",
    "        else:\n",
    "            sorted_list[1] = file\n",
    "    return sorted_list"
   ]
  },
  {
   "cell_type": "code",
   "execution_count": 5,
   "metadata": {},
   "outputs": [],
   "source": [
    "def insertion_counter(fastq_f_r1, target, donor, rev_com):\n",
    "    '''\n",
    "    Processes .fastq files to count insertion reads and output statistics as well as dictionary of UMIs and counts,\n",
    "        insertion positions, insertion positions for each UMI, and reads to generate a .fastq\n",
    "    Inputs:\n",
    "        fastq_f_r1: file name of relevant fastq file, as a string\n",
    "        target: target sequence to match, as a string\n",
    "        donor: donor sequence to match, as a string\n",
    "        rev_com: reverse complement param, as a boolean (int of 0 or 1)\n",
    "        Implicitly takes in many params related to UMI position, length, fuzzy string matching, and filtering\n",
    "    Outputs:\n",
    "        Prints # of reads, # of insertion reads, # of unique UMIs\n",
    "        insertion_dict: stores UMIs as keys with counts per UMI as values\n",
    "        insert_pos_list: list of insertion positions\n",
    "        UMI_insert_pos_list: list of insertion positions deduplicated by UMI\n",
    "        insertion_read_list: list of reads that are insertions, for later output as a .fastq for examination\n",
    "    '''\n",
    "    # Initialize variables\n",
    "    num_reads = 0\n",
    "    insertion_reads = 0\n",
    "    unique_insertion_reads = 0\n",
    "    insertion_dict = {} \n",
    "    insert_pos_list = [] \n",
    "    UMI_insert_pos_list = []\n",
    "    insertion_read_list = []\n",
    "    \n",
    "    # Process input strings and define regexes\n",
    "    target = target.upper()\n",
    "    donor = donor.upper()   \n",
    "    if allow_errors:\n",
    "        target_error_string = \"{\"+f\"e<={target_errors}\"+\"}\"\n",
    "        donor_error_string = \"{\"+f\"e<={donor_errors}\"+\"}\"     \n",
    "        target_pattern = f\"(?e)({target}){target_error_string}\"\n",
    "        donor_pattern = f\"(?e)({donor}){donor_error_string}\"\n",
    "    else:\n",
    "        target_pattern = target\n",
    "        donor_pattern = donor\n",
    "\n",
    "\n",
    "    # Extract and iterate through reads from .fastq file\n",
    "    readiter_f = SeqIO.parse(fastq_f_r1, \"fastq\")\n",
    "    pbar2 = tqdm(readiter_f)\n",
    "    for record_f in pbar2:\n",
    "        num_reads += 1\n",
    "        read_sequence_f = str.upper(str(record_f.seq))\n",
    "        if rev_com:\n",
    "            read_sequence_f = str.upper(str(record_f.seq.reverse_complement()))\n",
    "            \n",
    "        # Search for target and donor match, store and record relevant information\n",
    "        target_match = re.search(target_pattern, read_sequence_f)\n",
    "        if target_match:\n",
    "            donor_site = re.search(donor_pattern, read_sequence_f)\n",
    "            if donor_site:\n",
    "                    target_insertion = donor_site.start()-target_match.start()\n",
    "                    UMI_seq = read_sequence_f[donor_site.start()+UMI_start:donor_site.start()+UMI_start+UMI_length]\n",
    "                    if (insert_pos_min <= target_insertion <= insert_pos_max) or (not filter_insert_position):\n",
    "                        insertion_reads +=1\n",
    "                        insert_pos_list.append(target_insertion)\n",
    "                        insertion_read_list.append(record_f)\n",
    "                        if UMI_seq not in insertion_dict:\n",
    "                            unique_insertion_reads += 1\n",
    "                            UMI_insert_pos_list.append(target_insertion)                        \n",
    "                        insertion_dict[UMI_seq] = insertion_dict.get(UMI_seq, 0) + 1\n",
    "    pbar2.close()\n",
    "                \n",
    "    # Print Stats\n",
    "    print(num_reads,\"total reads, \",insertion_reads,\" insertion reads \", unique_insertion_reads, \"unique insertion_reads\" )\n",
    "    \n",
    "    return [insertion_dict, insert_pos_list, UMI_insert_pos_list, insertion_read_list]"
   ]
  },
  {
   "cell_type": "code",
   "execution_count": 6,
   "metadata": {},
   "outputs": [],
   "source": [
    "def insertion_counter_parallel(sample_index):\n",
    "    '''\n",
    "    Helper function to parallelize insertion counter\n",
    "    Processes .fastq files to count insertion reads and output statistics as well as dictionary of UMIs and counts,\n",
    "        insertion positions, insertion positions for each UMI, and reads to generate a .fastq\n",
    "    Inputs:\n",
    "        sample_index: index of sample as string (e.g. \"A12\")\n",
    "        Implicitly takes in many params related to UMI position, length, fuzzy string matching, and filtering\n",
    "        Also takes in params that are in df containing sample information\n",
    "    Outputs:\n",
    "        Prints # of reads, # of insertion reads, # of unique UMIs\n",
    "        insertion_dict: stores UMIs as keys with counts per UMI as values\n",
    "        insert_pos_list: list of insertion positions\n",
    "        UMI_insert_pos_list: list of insertion positions deduplicated by UMI\n",
    "        insertion_read_list: list of reads that are insertions, for later output as a .fastq for examination\n",
    "    '''\n",
    "    #Get sample data and input into insertion_counter\n",
    "    sample = samples.loc[sample_index,:]\n",
    "\n",
    "    fastq_f_r1 = sample['Forward']\n",
    "    target = sample['Target']\n",
    "    donor = sample['Donor']\n",
    "    rev_com = sample['Reverse Complement']\n",
    "    intermediate_data = insertion_counter(fastq_f_r1, target, donor, rev_com)\n",
    "    print(sample['Name'])\n",
    "    return [sample['Name'], intermediate_data]"
   ]
  },
  {
   "cell_type": "code",
   "execution_count": 7,
   "metadata": {},
   "outputs": [],
   "source": [
    "def insertion_pos_plot(sample_name, deduplicated_by_UMI, print_out):\n",
    "    '''\n",
    "    Takes in sample names and a few params and plots plot of insertion positions\n",
    "    Inputs:\n",
    "        sample_name = sample name as string\n",
    "        deduplicated_by_UMI = Boolean for whether to look at insertion pos with or without deduplication\n",
    "        print_out = Boolean for whether to print out list of insertion positions or not\n",
    "    Outputs:\n",
    "        Graph of insertion positions\n",
    "        Prints out relevant insertion pos list dependent on print_out parameter\n",
    "    '''\n",
    "    #Acquire data\n",
    "    if sample_name not in data:\n",
    "        raise ValueError(\"Sample not found\")\n",
    "    if deduplicated_by_UMI:\n",
    "        insertion_positions = np.array(data[sample_name][2])\n",
    "    else:\n",
    "        insertion_positions = np.array(data[sample_name][1])\n",
    "\n",
    "    #Set up plot\n",
    "    left_of_first_bin = insertion_positions.min() - 0.5\n",
    "    right_of_last_bin = insertion_positions.max() + 0.5\n",
    "    plt.figure(figsize=(9, 6)) \n",
    "    plt.xticks(fontsize=14)  \n",
    "    plt.yticks(fontsize=14)  \n",
    "    plt.xlabel(\"Insertion Position\", fontsize=16)  \n",
    "    plt.ylabel(\"Count\", fontsize=16)\n",
    "    plt.hist(insertion_positions, np.arange(left_of_first_bin, right_of_last_bin + 1, 1), color=\"#3F5D7D\")\n",
    "    plt.show()\n",
    "    \n",
    "    #Print data if desired\n",
    "    if print_out:\n",
    "        print(*insertion_positions)"
   ]
  },
  {
   "cell_type": "code",
   "execution_count": 8,
   "metadata": {},
   "outputs": [],
   "source": [
    "def UMI_dist_plot(sample_name, scale, print_out, print_counts):\n",
    "    '''\n",
    "    Takes in sample name and plots plot of read counts per UMI\n",
    "    Inputs:\n",
    "        sample_name = sample name as string\n",
    "        scale = \"Log\" or \"Linear\"\n",
    "        print_out = Boolean for whether to print out UMIs or not\n",
    "        print_counts = Boolean for whether to print out UMI counts or not\n",
    "    Outputs:\n",
    "        Graph of insertion positions\n",
    "        Prints out relevant data dependent on print parameters\n",
    "    '''\n",
    "    #Acquire data\n",
    "    if sample_name not in data:\n",
    "        raise ValueError(\"Sample not found\")\n",
    "    else:\n",
    "        sample_UMI_dict = data[sample_name][0]\n",
    "\n",
    "    \n",
    "    #Set up data for plot\n",
    "    counts = []\n",
    "    UMIlabels = []\n",
    "    for UMI, count in sample_UMI_dict.items():\n",
    "        UMIlabels.append(UMI)\n",
    "        counts.append(count)\n",
    "    sorted_inds = np.array(counts).argsort()\n",
    "    sorted_counts = np.array(counts)[sorted_inds[::-1]]\n",
    "    sorted_UMIlabels = np.array(UMIlabels)[sorted_inds[::-1]]\n",
    "    \n",
    "    #Set up plot\n",
    "    plt.figure(figsize=(20, 8)) \n",
    "    plt.bar(np.arange(len(sorted_counts)),sorted_counts)\n",
    "    plt.xticks(fontsize=2)  \n",
    "    plt.yticks(fontsize=14)\n",
    "    if scale == \"Log\":\n",
    "        plt.yscale('log')\n",
    "    elif scale != \"Linear\":\n",
    "        raise ValueError(\"Scale parameter is not defined correctly\")\n",
    "    plt.xlabel(\"UMI # sorted by count\", fontsize=16)  \n",
    "    plt.ylabel(\"Read Count\", fontsize=16)\n",
    "    plt.show()\n",
    "\n",
    "    #Print data if desired\n",
    "    if print_out:\n",
    "        if print_counts:\n",
    "            print(*zip(sorted_UMIlabels, sorted_counts))   \n",
    "        else:\n",
    "            print(*sorted_UMIlabels)\n",
    "    elif print_counts:\n",
    "        print(*sorted_counts)"
   ]
  },
  {
   "cell_type": "code",
   "execution_count": 9,
   "metadata": {},
   "outputs": [],
   "source": [
    "def write_fastq(sample_name, file_name):\n",
    "    '''\n",
    "    Takes in sample name and writes reads to fastq file\n",
    "    Inputs:\n",
    "        sample_name = sample name as string\n",
    "        file_name = output file name as string\n",
    "    Outputs:\n",
    "        .fastq file in same working directory containing filtered reads\n",
    "    '''\n",
    "    #Acquire data\n",
    "    if sample_name not in data:\n",
    "        raise ValueError(\"Sample not found\")\n",
    "    else:\n",
    "        sample_reads = data[sample_name][3]\n",
    "\n",
    "    #Write reads to file\n",
    "    if \".fastq\" not in file_name:\n",
    "        raise ValueError(\"File name not valid\")\n",
    "    with open(file_name, \"w\") as output_handle:\n",
    "        SeqIO.write(sample_reads, output_handle, \"fastq\")\n",
    "    print(f\"Reads written to: {file_name}\")"
   ]
  },
  {
   "cell_type": "markdown",
   "metadata": {},
   "source": [
    "## Main Script"
   ]
  },
  {
   "cell_type": "code",
   "execution_count": 10,
   "metadata": {},
   "outputs": [
    {
     "name": "stdout",
     "output_type": "stream",
     "text": [
      "{'A9': ['P8_A9_S681_R1_001.fastq'], 'A11': ['P8_A11_S684_R1_001.fastq'], 'B5': ['P8_B5_S689_R1_001.fastq'], 'A12': ['P8_A12_S684_R1_001.fastq'], 'A4': ['P8_A4_S676_R1_001.fastq'], 'B7': ['P8_B7_S691_R1_001.fastq']}\n"
     ]
    }
   ],
   "source": [
    "#Lists and stores names of all unzipped .fastq files from current folder\n",
    "#Note: identifies samples by second term in .fastq name (applies to standard lab BCs, but not everyone's)\n",
    "cwd = os.getcwd()\n",
    "files = os.listdir(cwd)\n",
    "file_dict = {}\n",
    "for file in files:\n",
    "    if experiment_marker in file and '.gz' not in file:\n",
    "        sample = file.split('_')\n",
    "        try: \n",
    "            if sample[1] in file_dict:\n",
    "                file_dict[sample[1]].append(file)\n",
    "            else:\n",
    "                file_dict[sample[1]] = [file]\n",
    "        except:\n",
    "            raise ValueError(\"Folder contains .fastq file not fitting correct format\")\n",
    "print(file_dict)"
   ]
  },
  {
   "cell_type": "code",
   "execution_count": 11,
   "metadata": {},
   "outputs": [
    {
     "data": {
      "text/html": [
       "<div>\n",
       "<style scoped>\n",
       "    .dataframe tbody tr th:only-of-type {\n",
       "        vertical-align: middle;\n",
       "    }\n",
       "\n",
       "    .dataframe tbody tr th {\n",
       "        vertical-align: top;\n",
       "    }\n",
       "\n",
       "    .dataframe thead th {\n",
       "        text-align: right;\n",
       "    }\n",
       "</style>\n",
       "<table border=\"1\" class=\"dataframe\">\n",
       "  <thead>\n",
       "    <tr style=\"text-align: right;\">\n",
       "      <th></th>\n",
       "      <th>Name</th>\n",
       "      <th>Target</th>\n",
       "      <th>Donor</th>\n",
       "      <th>Reverse Complement</th>\n",
       "      <th>Forward</th>\n",
       "    </tr>\n",
       "    <tr>\n",
       "      <th>Sample</th>\n",
       "      <th></th>\n",
       "      <th></th>\n",
       "      <th></th>\n",
       "      <th></th>\n",
       "      <th></th>\n",
       "    </tr>\n",
       "  </thead>\n",
       "  <tbody>\n",
       "    <tr>\n",
       "      <th>A12</th>\n",
       "      <td>Sample</td>\n",
       "      <td>TTAGACCCATGGGAGCAGCTGGTCAGAGGGGACCCCGGCCTGGGGC...</td>\n",
       "      <td>TGTGACTTTACCCATA</td>\n",
       "      <td>0</td>\n",
       "      <td>P8_A12_S684_R1_001.fastq</td>\n",
       "    </tr>\n",
       "    <tr>\n",
       "      <th>A4</th>\n",
       "      <td>IB43-ID4_uL</td>\n",
       "      <td>TGATGGGAGCCCTTCTTCTTCTGCTCGGACTCAGGCCCTTCCTCCT...</td>\n",
       "      <td>TGTGACTTTACCCATA</td>\n",
       "      <td>0</td>\n",
       "      <td>P8_A4_S676_R1_001.fastq</td>\n",
       "    </tr>\n",
       "    <tr>\n",
       "      <th>A9</th>\n",
       "      <td>IB43-ID9_uL</td>\n",
       "      <td>GGAAGACTGAGGCTACATAGGGTTAGGGGCCCCAGGCCGGGGTCCC...</td>\n",
       "      <td>TGTGACTTTACCCATA</td>\n",
       "      <td>0</td>\n",
       "      <td>P8_A9_S681_R1_001.fastq</td>\n",
       "    </tr>\n",
       "    <tr>\n",
       "      <th>B5</th>\n",
       "      <td>IB43-ID17_uL</td>\n",
       "      <td>TCTGTTACTCGCCTGTCAAGTGGCGTGACACCGGGCGTGTTCCCCA...</td>\n",
       "      <td>TGTGACTTTACCCATA</td>\n",
       "      <td>0</td>\n",
       "      <td>P8_B5_S689_R1_001.fastq</td>\n",
       "    </tr>\n",
       "    <tr>\n",
       "      <th>B7</th>\n",
       "      <td>IB43-ID19_uL</td>\n",
       "      <td>CACTGATGTTGTGTTTTTAACATGTCAATCTGTCCGTTCACATGTG...</td>\n",
       "      <td>TGTGACTTTACCCATA</td>\n",
       "      <td>0</td>\n",
       "      <td>P8_B7_S691_R1_001.fastq</td>\n",
       "    </tr>\n",
       "  </tbody>\n",
       "</table>\n",
       "</div>"
      ],
      "text/plain": [
       "                Name                                             Target  \\\n",
       "Sample                                                                    \n",
       "A12           Sample  TTAGACCCATGGGAGCAGCTGGTCAGAGGGGACCCCGGCCTGGGGC...   \n",
       "A4       IB43-ID4_uL  TGATGGGAGCCCTTCTTCTTCTGCTCGGACTCAGGCCCTTCCTCCT...   \n",
       "A9       IB43-ID9_uL  GGAAGACTGAGGCTACATAGGGTTAGGGGCCCCAGGCCGGGGTCCC...   \n",
       "B5      IB43-ID17_uL  TCTGTTACTCGCCTGTCAAGTGGCGTGACACCGGGCGTGTTCCCCA...   \n",
       "B7      IB43-ID19_uL  CACTGATGTTGTGTTTTTAACATGTCAATCTGTCCGTTCACATGTG...   \n",
       "\n",
       "                   Donor  Reverse Complement                   Forward  \n",
       "Sample                                                                  \n",
       "A12     TGTGACTTTACCCATA                   0  P8_A12_S684_R1_001.fastq  \n",
       "A4      TGTGACTTTACCCATA                   0   P8_A4_S676_R1_001.fastq  \n",
       "A9      TGTGACTTTACCCATA                   0   P8_A9_S681_R1_001.fastq  \n",
       "B5      TGTGACTTTACCCATA                   0   P8_B5_S689_R1_001.fastq  \n",
       "B7      TGTGACTTTACCCATA                   0   P8_B7_S691_R1_001.fastq  "
      ]
     },
     "metadata": {},
     "output_type": "display_data"
    }
   ],
   "source": [
    "#Import Sample Sheet\n",
    "samples = pd.read_csv('Analysis_Sample_Sheet.csv', index_col = 0)\n",
    "for sample in samples.index.tolist():\n",
    "    fwd_file, rev_file = sort_R_file(file_dict[sample])\n",
    "    samples.loc[sample,'Forward'] = fwd_file\n",
    "    if paired_end:\n",
    "        samples.loc[sample, 'Reverse'] = rev_file #Empty string if no reverse read\n",
    "display(samples)"
   ]
  },
  {
   "cell_type": "code",
   "execution_count": 11,
   "metadata": {},
   "outputs": [
    {
     "data": {
      "application/vnd.jupyter.widget-view+json": {
       "model_id": "1620a6423cbd43738511f9720e334bcd",
       "version_major": 2,
       "version_minor": 0
      },
      "text/plain": [
       "HBox(children=(FloatProgress(value=0.0, max=5.0), HTML(value='')))"
      ]
     },
     "metadata": {},
     "output_type": "display_data"
    },
    {
     "data": {
      "application/vnd.jupyter.widget-view+json": {
       "model_id": "896d9afaeffe433097cd12fac60b9cf9",
       "version_major": 2,
       "version_minor": 0
      },
      "text/plain": [
       "HBox(children=(FloatProgress(value=1.0, bar_style='info', max=1.0), HTML(value='')))"
      ]
     },
     "metadata": {},
     "output_type": "display_data"
    },
    {
     "name": "stdout",
     "output_type": "stream",
     "text": [
      "\n",
      "192575 total reads,  1829  insertion reads  277 unique insertion_reads\n",
      "Sample\n"
     ]
    },
    {
     "data": {
      "application/vnd.jupyter.widget-view+json": {
       "model_id": "bf86a839cdd94a1bbe68ae0dc261be60",
       "version_major": 2,
       "version_minor": 0
      },
      "text/plain": [
       "HBox(children=(FloatProgress(value=1.0, bar_style='info', max=1.0), HTML(value='')))"
      ]
     },
     "metadata": {},
     "output_type": "display_data"
    },
    {
     "name": "stdout",
     "output_type": "stream",
     "text": [
      "\n",
      "232934 total reads,  19  insertion reads  3 unique insertion_reads\n",
      "IB43-ID4_uL\n"
     ]
    },
    {
     "data": {
      "application/vnd.jupyter.widget-view+json": {
       "model_id": "604a634b127942958e526e614f9e7f3d",
       "version_major": 2,
       "version_minor": 0
      },
      "text/plain": [
       "HBox(children=(FloatProgress(value=1.0, bar_style='info', max=1.0), HTML(value='')))"
      ]
     },
     "metadata": {},
     "output_type": "display_data"
    },
    {
     "name": "stdout",
     "output_type": "stream",
     "text": [
      "\n",
      "233191 total reads,  2053  insertion reads  322 unique insertion_reads\n",
      "IB43-ID9_uL\n"
     ]
    },
    {
     "data": {
      "application/vnd.jupyter.widget-view+json": {
       "model_id": "f4b367480c4a44f7b42b509869dc9489",
       "version_major": 2,
       "version_minor": 0
      },
      "text/plain": [
       "HBox(children=(FloatProgress(value=1.0, bar_style='info', max=1.0), HTML(value='')))"
      ]
     },
     "metadata": {},
     "output_type": "display_data"
    },
    {
     "name": "stdout",
     "output_type": "stream",
     "text": [
      "\n",
      "116290 total reads,  643  insertion reads  69 unique insertion_reads\n",
      "IB43-ID17_uL\n"
     ]
    },
    {
     "data": {
      "application/vnd.jupyter.widget-view+json": {
       "model_id": "5b781ffea30e4a498a37f86cd7128379",
       "version_major": 2,
       "version_minor": 0
      },
      "text/plain": [
       "HBox(children=(FloatProgress(value=1.0, bar_style='info', max=1.0), HTML(value='')))"
      ]
     },
     "metadata": {},
     "output_type": "display_data"
    },
    {
     "name": "stdout",
     "output_type": "stream",
     "text": [
      "\n",
      "61285 total reads,  58104  insertion reads  150 unique insertion_reads\n",
      "IB43-ID19_uL\n",
      "\n"
     ]
    }
   ],
   "source": [
    "#Count insertion reads and process data for further analysis\n",
    "pbar = tqdm(samples.index.tolist()[:])\n",
    "data = {}\n",
    "for index in pbar:\n",
    "    sample = samples.loc[index,:]\n",
    "    sample_data = insertion_counter(sample['Forward'], sample['Target'], sample['Donor'], sample['Reverse Complement'])\n",
    "    print(sample['Name'])\n",
    "    if sample['Name'] not in data:\n",
    "        data[sample['Name']] = sample_data\n",
    "    else:\n",
    "        raise ValueError(\"Multiple samples with same name\")\n",
    "pbar.close()"
   ]
  },
  {
   "cell_type": "code",
   "execution_count": 12,
   "metadata": {},
   "outputs": [
    {
     "name": "stdout",
     "output_type": "stream",
     "text": [
      "\n",
      "116290 total reads,  643  insertion reads  69 unique insertion_reads\n",
      "IB43-ID17_uL\n"
     ]
    },
    {
     "data": {
      "application/vnd.jupyter.widget-view+json": {
       "model_id": "a501a98356cd40b4a41b3fc190549164",
       "version_major": 2,
       "version_minor": 0
      },
      "text/plain": [
       "HBox(children=(FloatProgress(value=1.0, bar_style='info', max=1.0), HTML(value='')))"
      ]
     },
     "metadata": {},
     "output_type": "display_data"
    },
    {
     "name": "stdout",
     "output_type": "stream",
     "text": [
      "\n",
      "61285 total reads,  58104  insertion reads  150 unique insertion_reads\n",
      "IB43-ID19_uL\n",
      "\n",
      "192575 total reads,  1829  insertion reads  277 unique insertion_reads\n",
      "Sample\n",
      "\n",
      "233191 total reads,  2053  insertion reads  322 unique insertion_reads\n",
      "IB43-ID9_uL\n",
      "\n",
      "232934 total reads,  19  insertion reads  3 unique insertion_reads\n",
      "IB43-ID4_uL\n"
     ]
    }
   ],
   "source": [
    "#Optional parallelized version (should be faster than the above given enough samples, is parallelized across samples)\n",
    "#Takes a bit to close the pool, but results generated quickly\n",
    "data = {}\n",
    "pool = Pool(psutil.cpu_count(logical=False))\n",
    "for [sample_name, processed_sample_data] in pool.imap(insertion_counter_parallel, samples.index.tolist()):\n",
    "    if sample_name not in data:\n",
    "        data[sample_name] = processed_sample_data\n",
    "    else:\n",
    "        raise ValueError(\"Multiple samples with same name\")\n",
    "pool.close()"
   ]
  },
  {
   "cell_type": "markdown",
   "metadata": {},
   "source": [
    "## Insertion Position Analysis"
   ]
  },
  {
   "cell_type": "code",
   "execution_count": 13,
   "metadata": {},
   "outputs": [
    {
     "name": "stdout",
     "output_type": "stream",
     "text": [
      "Help on function insertion_pos_plot in module __main__:\n",
      "\n",
      "insertion_pos_plot(sample_name, deduplicated_by_UMI, print_out)\n",
      "    Takes in sample names and a few params and plots plot of insertion positions\n",
      "    Inputs:\n",
      "        sample_name = sample name as string\n",
      "        deduplicated_by_UMI = Boolean for whether to look at insertion pos with or without deduplication\n",
      "        print_out = Boolean for whether to print out list of insertion positions or not\n",
      "    Outputs:\n",
      "        Graph of insertion positions\n",
      "        Prints out relevant insertion pos list dependent on print_out parameter\n",
      "\n"
     ]
    }
   ],
   "source": [
    "help(insertion_pos_plot)"
   ]
  },
  {
   "cell_type": "code",
   "execution_count": 14,
   "metadata": {},
   "outputs": [
    {
     "data": {
      "image/png": "[encoded data removed]",
      "text/plain": [
       "<Figure size 648x432 with 1 Axes>"
      ]
     },
     "metadata": {
      "needs_background": "light"
     },
     "output_type": "display_data"
    },
    {
     "name": "stdout",
     "output_type": "stream",
     "text": [
      "88 88 90 88 88 83 88 88 90 88 91 84 88 83 88 88 88 88 88 90 84 88 90 90 88 83 90 84 84 91 84 88 84 90 88 88 90 84 90 84 84 88 88 90 88 83 90 90 83 88 84 83 88 84 88 91 88 84 88 88 88 84 88 84 88 84 91 88 88 88 90 83 88 88 88 84 84 88 88 84 84 88 83 88 90 88 84 88 88 84 88 84 84 83 88 88 84 90 90 88 90 83 84 88 84 90 84 88 88 90 91 84 88 90 88 88 84 88 88 83 88 88 88 83 89 84 90 88 88 88 84 88 88 84 84 90 90 90 88 90 83 88 83 84 88 91 88 88 88 84 90 88 84 88 84 84 84 88 88 84 83 88 84 84 83 91 90 90 88 90 84 88 88 90 84 88 88 83 90 88 84 84 84 90 88 88 84 88 90 88 90 88 84 88 88 90 84 84 88 84 91 88 88 88 88 84 88 88 88 88 88 84 83 84 88 88 90 83 88 84 88 90 84 88 83 83 88 83 84 88 88 85 88 84 84 88 90 90 91 88 88 84 90 88 88 91 84 83 90 84 88 88 90 90 84 88 84 84 84 89 83 83 88 88 88 88 88 84 84 84 90 88 84 88 88 88 88 90 84 88 88 84 88 88 88 88 84 90 88 83 88 90 84 88 90 88 90 88 84 88 84 88 83 84 88 90 83 88 84 88 90 84 88 91 88 83 88 88 84 91 91 84\n"
     ]
    }
   ],
   "source": [
    "# Plot of insertion positions not deduplicated by UMI\n",
    "insertion_pos_plot(\"IB43-ID9_uL\", True, True)"
   ]
  },
  {
   "cell_type": "code",
   "execution_count": 15,
   "metadata": {},
   "outputs": [
    {
     "data": {
      "image/png": "[encoded data removed]",
      "text/plain": [
       "<Figure size 648x432 with 1 Axes>"
      ]
     },
     "metadata": {
      "needs_background": "light"
     },
     "output_type": "display_data"
    }
   ],
   "source": [
    "# Plot of insertion positions deduplicated by UMI\n",
    "insertion_pos_plot(\"Sample\", True, False)"
   ]
  },
  {
   "cell_type": "code",
   "execution_count": 16,
   "metadata": {},
   "outputs": [
    {
     "data": {
      "image/png": "[encoded data removed]",
      "text/plain": [
       "<Figure size 648x432 with 1 Axes>"
      ]
     },
     "metadata": {
      "needs_background": "light"
     },
     "output_type": "display_data"
    },
    {
     "name": "stdout",
     "output_type": "stream",
     "text": [
      "84 82 82 82 84 88 84 82 82 88 82 82 82 82 82 88 88 84 82 82 82 88 82 84 88 82 82 82 82 82 82 82 84 82 82 88 84 88 88 88 82 82 82 84 84 82 88 82 82 82 82 82 88 88 82 82 82 84 82 82 82 88 82 88 82 80 82 88 82 82 84 88 82 88 82 88 84 82 82 88 82 82 88 82 82 88 82 82 82 88 82 82 82 82 82 88 88 82 88 84 84 82 88 88 86 84 88 82 82 84 82 82 81 84 82 82 82 82 88 82 88 84 88 82 88 82 82 88 88 88 84 88 82 84 82 82 84 88 88 88 82 84 82 82 84 84 82 82 84 84 84 82 88 82 82 84 84 82 88 82 82 82 88 82 82 84 82 82 88 84 82 82 88 88 88 82 88 82 82 88 82 82 82 82 82 88 82 88 82 84 82 84 88 82 88 88 82 88 82 88 82 82 82 82 82 82 88 82 84 82 82 88 82 81 82 82 82 82 82 84 82 84 82 88 82 84 82 84 82 82 88 82 83 88 82 82 88 82 82 84 84 82 82 82 88 82 88 88 82 82 82 84 88 82 82 84 84 88 82 82 82 82 82 88 82 84 88 82 88 82 82 82 84 88 84 82 82\n"
     ]
    }
   ],
   "source": [
    "# Print-out of insertion positions deduplicated by UMI\n",
    "insertion_pos_plot(\"Sample\", True, True)"
   ]
  },
  {
   "cell_type": "markdown",
   "metadata": {},
   "source": [
    "## UMI Read Distribution Analysis"
   ]
  },
  {
   "cell_type": "code",
   "execution_count": 17,
   "metadata": {},
   "outputs": [
    {
     "name": "stdout",
     "output_type": "stream",
     "text": [
      "Help on function UMI_dist_plot in module __main__:\n",
      "\n",
      "UMI_dist_plot(sample_name, scale, print_out, print_counts)\n",
      "    Takes in sample name and plots plot of read counts per UMI\n",
      "    Inputs:\n",
      "        sample_name = sample name as string\n",
      "        scale = \"Log\" or \"Linear\"\n",
      "        print_out = Boolean for whether to print out UMIs or not\n",
      "        print_counts = Boolean for whether to print out UMI counts or not\n",
      "    Outputs:\n",
      "        Graph of insertion positions\n",
      "        Prints out relevant data dependent on print parameters\n",
      "\n"
     ]
    }
   ],
   "source": [
    "help(UMI_dist_plot)"
   ]
  },
  {
   "cell_type": "code",
   "execution_count": 18,
   "metadata": {},
   "outputs": [
    {
     "data": {
      "image/png": "[encoded data removed]",
      "text/plain": [
       "<Figure size 1440x576 with 1 Axes>"
      ]
     },
     "metadata": {
      "needs_background": "light"
     },
     "output_type": "display_data"
    }
   ],
   "source": [
    "# UMI read plot with linear scale\n",
    "UMI_dist_plot(\"IB43-ID9_uL\", \"Linear\", False, False)"
   ]
  },
  {
   "cell_type": "code",
   "execution_count": 19,
   "metadata": {},
   "outputs": [
    {
     "data": {
      "image/png": "[encoded data removed]",
      "text/plain": [
       "<Figure size 1440x576 with 1 Axes>"
      ]
     },
     "metadata": {
      "needs_background": "light"
     },
     "output_type": "display_data"
    },
    {
     "name": "stdout",
     "output_type": "stream",
     "text": [
      "969 117 104 98 84 78 68 65 44 33 4 4 3 3 3 3 3 3 3 3 3 3 2 2 2 2 2 2 2 2 2 2 2 2 2 2 2 2 2 2 2 2 2 2 2 2 2 2 2 2 2 2 2 2 2 2 2 2 2 2 2 2 2 2 2 2 2 2 2 2 2 2 2 2 2 2 2 1 1 1 1 1 1 1 1 1 1 1 1 1 1 1 1 1 1 1 1 1 1 1 1 1 1 1 1 1 1 1 1 1 1 1 1 1 1 1 1 1 1 1 1 1 1 1 1 1 1 1 1 1 1 1 1 1 1 1 1 1 1 1 1 1 1 1 1 1 1 1 1 1 1 1 1 1 1 1 1 1 1 1 1 1 1 1 1 1 1 1 1 1 1 1 1 1 1 1 1 1 1 1 1 1 1 1 1 1 1 1 1 1 1 1 1 1 1 1 1 1 1 1 1 1 1 1 1 1 1 1 1 1 1 1 1 1 1 1 1 1 1 1 1 1 1 1 1 1 1 1 1 1 1 1 1 1 1 1 1 1 1 1 1 1 1 1 1 1 1 1 1 1 1 1 1 1 1 1 1 1 1 1 1 1 1 1 1 1 1 1 1 1 1 1 1 1 1 1 1 1 1 1 1 1 1 1 1 1 1 1 1 1 1 1 1 1 1 1 1 1 1 1 1 1 1 1 1 1 1 1 1 1 1 1 1 1 1 1 1 1 1 1 1 1\n"
     ]
    }
   ],
   "source": [
    "# UMI read plot with linear scale\n",
    "UMI_dist_plot(\"IB43-ID9_uL\", \"Log\", False, True)"
   ]
  },
  {
   "cell_type": "code",
   "execution_count": 20,
   "metadata": {},
   "outputs": [
    {
     "data": {
      "image/png": "[encoded data removed]",
      "text/plain": [
       "<Figure size 1440x576 with 1 Axes>"
      ]
     },
     "metadata": {
      "needs_background": "light"
     },
     "output_type": "display_data"
    }
   ],
   "source": [
    "# UMI read plot with log scale\n",
    "UMI_dist_plot(\"Sample\", \"Log\", False, False)"
   ]
  },
  {
   "cell_type": "code",
   "execution_count": 21,
   "metadata": {},
   "outputs": [
    {
     "data": {
      "image/png": "[encoded data removed]",
      "text/plain": [
       "<Figure size 1440x576 with 1 Axes>"
      ]
     },
     "metadata": {
      "needs_background": "light"
     },
     "output_type": "display_data"
    },
    {
     "name": "stdout",
     "output_type": "stream",
     "text": [
      "GCTAAC GGTCTA CATCAT GCTTCC CTAAAT CATAGA TAATTG TGCTAA AAGTTT TCCTCA TCTAAC AAGGTC GATAAC AGTTTG GACGAA GCGTAG AAGCAA CTAACT TGAGAA TGTCGT CGAAAC CACCTA GAAGCA AACCAT GACAAC ACTCTG ACAAAT TCATTC GCGGGG GGATGG GGAATA CTACTA AAACTC TTGTAT TCCCGA ATCACC AGATTC CTTGGG AGAGGC AAGCCC GTACTC TTGCCA AAGGAG TTTGGG AATGTG GCTACA CACAAA TATAGC TGATGA GACGCC TAAAAG GCGAAC AGCCGG GTAGAT GTCTAC GGACGA TAGTGT CTAAGA CTTACC TTATTG GTCACC GAAGTA GTCAAA GATCGA TTAGAC AACCGC CAGTGA AATATT AACACG AACTAG AGTAAG CTTGTG GAACAC GGCCGA TCATAA ATTAAT CCGCCA AGGCTG TGTCTT GCTAAA AAACGC AGCCTT TTCCTA CGGTAG GAGAAT AGAATT AATGCC AAGTAC ACGATT GTCCAT TAGGTG ACTTTA TTTCAT CCGCGG TATCGG TACGTC ATGTGA TTGCGA AAGAAT CGGAGG ACCGTT CCAGCC ATGGCG GACTGA GCTTTC GTTTGC TAAGTT CTATCC GCGCCT TGGATC GTCAAT GGACTA CAATCG AGGTCC GTGCCT AGTTTT TGGTAG TGACCC AGCTAT ATTACC CATCTG ACTTAT GCTCGC GTATTG AATAGA CTCTGG TACGTG GTTTAA TTATTT ATGATG CAGGCT CGAGAT AAAACG TGTATG TTGTCT TAGTTG CTCATC TACTCA CACGTC ACACCT CAATTT AGTTGG AGCAAA TCAAAA AGGCTT GCGACT ACCCGA TCGACT TGTACA CCTTTG TAATGA GAATAT TTTCCC ATACAA TTTACA AATTTG AGTATC TATCTT TGCAAT GCTCGT AGTACT TCCAGC AATCGT ACTGGT TGCAAC ATGTCC CTGTAT AAATGT GTCTTA GCTCCG ACTAGG CGATTC ATCGTA CTCGAT CGAGAA AACTCG GGACGT GCTACC ATGCAC ATTCTC CTGTCG GATTCC GGTTGC TTGCAG GAGACT TGTTAC ACATAC CTGCAC ATCCAC AAATCA ATTTGG GGGTAA CGCTAG GGGCAG GTGACT TTTTAA CTTTTC TGTTAG GTAGTT TTTGTA GATAGC GGAGAA TAATGC ATTTAC ATCCCT AAGATT TACCTG ATTTAT ATAGGC TTTAAC ATTTCA CCCCTT TTACGA AGGCTC TGGAAA GGCGAC CTAAGT CGTTCT GGCTGA ATTTAA ACCTTC TATCCA GAGTAA AGATCT GCCCTT GCCAAA GCATTC ATTACT TGCTGA TTTGTC CAGAAC AAATAG GTTTAG CACGCC TTGTTT TCGGAA TCAAAT GGTTTC GTCGCC TGCCAT CTAATT GAACGA GGTGAG GAGTCT CGACCA CCACAA TAAGAC CCCAGA ATTTTT AAAAAT CAAACT TACACT CTTCTA ATATGT AATCAC ATTATC CAAACC TAACTA GTAACA TGGGTA CGCACT TTGTCG AATATC GCTTTA TAAGTA TCTTAC GTATGG CGACGT GTTGCT CATATA TAGGGA TCATGC CCAACG CCAATT ACAATC CAAGTC GACTAA\n"
     ]
    }
   ],
   "source": [
    "# Print-out of UMIs\n",
    "UMI_dist_plot(\"Sample\", \"Log\", True, False)"
   ]
  },
  {
   "cell_type": "code",
   "execution_count": 22,
   "metadata": {},
   "outputs": [
    {
     "data": {
      "image/png": "[encoded data removed]",
      "text/plain": [
       "<Figure size 1440x576 with 1 Axes>"
      ]
     },
     "metadata": {
      "needs_background": "light"
     },
     "output_type": "display_data"
    },
    {
     "name": "stdout",
     "output_type": "stream",
     "text": [
      "('GCTAAC', 1012) ('GGTCTA', 89) ('CATCAT', 66) ('GCTTCC', 61) ('CTAAAT', 57) ('CATAGA', 52) ('TAATTG', 52) ('TGCTAA', 50) ('AAGTTT', 40) ('TCCTCA', 31) ('TCTAAC', 7) ('AAGGTC', 3) ('GATAAC', 3) ('AGTTTG', 3) ('GACGAA', 3) ('GCGTAG', 2) ('AAGCAA', 2) ('CTAACT', 2) ('TGAGAA', 2) ('TGTCGT', 2) ('CGAAAC', 2) ('CACCTA', 2) ('GAAGCA', 2) ('AACCAT', 2) ('GACAAC', 2) ('ACTCTG', 2) ('ACAAAT', 2) ('TCATTC', 2) ('GCGGGG', 2) ('GGATGG', 2) ('GGAATA', 2) ('CTACTA', 2) ('AAACTC', 2) ('TTGTAT', 2) ('TCCCGA', 2) ('ATCACC', 2) ('AGATTC', 2) ('CTTGGG', 2) ('AGAGGC', 2) ('AAGCCC', 2) ('GTACTC', 2) ('TTGCCA', 2) ('AAGGAG', 2) ('TTTGGG', 2) ('AATGTG', 2) ('GCTACA', 2) ('CACAAA', 2) ('TATAGC', 2) ('TGATGA', 2) ('GACGCC', 2) ('TAAAAG', 2) ('GCGAAC', 2) ('AGCCGG', 2) ('GTAGAT', 1) ('GTCTAC', 1) ('GGACGA', 1) ('TAGTGT', 1) ('CTAAGA', 1) ('CTTACC', 1) ('TTATTG', 1) ('GTCACC', 1) ('GAAGTA', 1) ('GTCAAA', 1) ('GATCGA', 1) ('TTAGAC', 1) ('AACCGC', 1) ('CAGTGA', 1) ('AATATT', 1) ('AACACG', 1) ('AACTAG', 1) ('AGTAAG', 1) ('CTTGTG', 1) ('GAACAC', 1) ('GGCCGA', 1) ('TCATAA', 1) ('ATTAAT', 1) ('CCGCCA', 1) ('AGGCTG', 1) ('TGTCTT', 1) ('GCTAAA', 1) ('AAACGC', 1) ('AGCCTT', 1) ('TTCCTA', 1) ('CGGTAG', 1) ('GAGAAT', 1) ('AGAATT', 1) ('AATGCC', 1) ('AAGTAC', 1) ('ACGATT', 1) ('GTCCAT', 1) ('TAGGTG', 1) ('ACTTTA', 1) ('TTTCAT', 1) ('CCGCGG', 1) ('TATCGG', 1) ('TACGTC', 1) ('ATGTGA', 1) ('TTGCGA', 1) ('AAGAAT', 1) ('CGGAGG', 1) ('ACCGTT', 1) ('CCAGCC', 1) ('ATGGCG', 1) ('GACTGA', 1) ('GCTTTC', 1) ('GTTTGC', 1) ('TAAGTT', 1) ('CTATCC', 1) ('GCGCCT', 1) ('TGGATC', 1) ('GTCAAT', 1) ('GGACTA', 1) ('CAATCG', 1) ('AGGTCC', 1) ('GTGCCT', 1) ('AGTTTT', 1) ('TGGTAG', 1) ('TGACCC', 1) ('AGCTAT', 1) ('ATTACC', 1) ('CATCTG', 1) ('ACTTAT', 1) ('GCTCGC', 1) ('GTATTG', 1) ('AATAGA', 1) ('CTCTGG', 1) ('TACGTG', 1) ('GTTTAA', 1) ('TTATTT', 1) ('ATGATG', 1) ('CAGGCT', 1) ('CGAGAT', 1) ('AAAACG', 1) ('TGTATG', 1) ('TTGTCT', 1) ('TAGTTG', 1) ('CTCATC', 1) ('TACTCA', 1) ('CACGTC', 1) ('ACACCT', 1) ('CAATTT', 1) ('AGTTGG', 1) ('AGCAAA', 1) ('TCAAAA', 1) ('AGGCTT', 1) ('GCGACT', 1) ('ACCCGA', 1) ('TCGACT', 1) ('TGTACA', 1) ('CCTTTG', 1) ('TAATGA', 1) ('GAATAT', 1) ('TTTCCC', 1) ('ATACAA', 1) ('TTTACA', 1) ('AATTTG', 1) ('AGTATC', 1) ('TATCTT', 1) ('TGCAAT', 1) ('GCTCGT', 1) ('AGTACT', 1) ('TCCAGC', 1) ('AATCGT', 1) ('ACTGGT', 1) ('TGCAAC', 1) ('ATGTCC', 1) ('CTGTAT', 1) ('AAATGT', 1) ('GTCTTA', 1) ('GCTCCG', 1) ('ACTAGG', 1) ('CGATTC', 1) ('ATCGTA', 1) ('CTCGAT', 1) ('CGAGAA', 1) ('AACTCG', 1) ('GGACGT', 1) ('GCTACC', 1) ('ATGCAC', 1) ('ATTCTC', 1) ('CTGTCG', 1) ('GATTCC', 1) ('GGTTGC', 1) ('TTGCAG', 1) ('GAGACT', 1) ('TGTTAC', 1) ('ACATAC', 1) ('CTGCAC', 1) ('ATCCAC', 1) ('AAATCA', 1) ('ATTTGG', 1) ('GGGTAA', 1) ('CGCTAG', 1) ('GGGCAG', 1) ('GTGACT', 1) ('TTTTAA', 1) ('CTTTTC', 1) ('TGTTAG', 1) ('GTAGTT', 1) ('TTTGTA', 1) ('GATAGC', 1) ('GGAGAA', 1) ('TAATGC', 1) ('ATTTAC', 1) ('ATCCCT', 1) ('AAGATT', 1) ('TACCTG', 1) ('ATTTAT', 1) ('ATAGGC', 1) ('TTTAAC', 1) ('ATTTCA', 1) ('CCCCTT', 1) ('TTACGA', 1) ('AGGCTC', 1) ('TGGAAA', 1) ('GGCGAC', 1) ('CTAAGT', 1) ('CGTTCT', 1) ('GGCTGA', 1) ('ATTTAA', 1) ('ACCTTC', 1) ('TATCCA', 1) ('GAGTAA', 1) ('AGATCT', 1) ('GCCCTT', 1) ('GCCAAA', 1) ('GCATTC', 1) ('ATTACT', 1) ('TGCTGA', 1) ('TTTGTC', 1) ('CAGAAC', 1) ('AAATAG', 1) ('GTTTAG', 1) ('CACGCC', 1) ('TTGTTT', 1) ('TCGGAA', 1) ('TCAAAT', 1) ('GGTTTC', 1) ('GTCGCC', 1) ('TGCCAT', 1) ('CTAATT', 1) ('GAACGA', 1) ('GGTGAG', 1) ('GAGTCT', 1) ('CGACCA', 1) ('CCACAA', 1) ('TAAGAC', 1) ('CCCAGA', 1) ('ATTTTT', 1) ('AAAAAT', 1) ('CAAACT', 1) ('TACACT', 1) ('CTTCTA', 1) ('ATATGT', 1) ('AATCAC', 1) ('ATTATC', 1) ('CAAACC', 1) ('TAACTA', 1) ('GTAACA', 1) ('TGGGTA', 1) ('CGCACT', 1) ('TTGTCG', 1) ('AATATC', 1) ('GCTTTA', 1) ('TAAGTA', 1) ('TCTTAC', 1) ('GTATGG', 1) ('CGACGT', 1) ('GTTGCT', 1) ('CATATA', 1) ('TAGGGA', 1) ('TCATGC', 1) ('CCAACG', 1) ('CCAATT', 1) ('ACAATC', 1) ('CAAGTC', 1) ('GACTAA', 1)\n"
     ]
    }
   ],
   "source": [
    "# Print-out of UMIs with counts\n",
    "UMI_dist_plot(\"Sample\", \"Log\", True, True)"
   ]
  },
  {
   "cell_type": "code",
   "execution_count": 23,
   "metadata": {},
   "outputs": [
    {
     "data": {
      "image/png": "[encoded data removed]",
      "text/plain": [
       "<Figure size 1440x576 with 1 Axes>"
      ]
     },
     "metadata": {
      "needs_background": "light"
     },
     "output_type": "display_data"
    },
    {
     "name": "stdout",
     "output_type": "stream",
     "text": [
      "1012 89 66 61 57 52 52 50 40 31 7 3 3 3 3 2 2 2 2 2 2 2 2 2 2 2 2 2 2 2 2 2 2 2 2 2 2 2 2 2 2 2 2 2 2 2 2 2 2 2 2 2 2 1 1 1 1 1 1 1 1 1 1 1 1 1 1 1 1 1 1 1 1 1 1 1 1 1 1 1 1 1 1 1 1 1 1 1 1 1 1 1 1 1 1 1 1 1 1 1 1 1 1 1 1 1 1 1 1 1 1 1 1 1 1 1 1 1 1 1 1 1 1 1 1 1 1 1 1 1 1 1 1 1 1 1 1 1 1 1 1 1 1 1 1 1 1 1 1 1 1 1 1 1 1 1 1 1 1 1 1 1 1 1 1 1 1 1 1 1 1 1 1 1 1 1 1 1 1 1 1 1 1 1 1 1 1 1 1 1 1 1 1 1 1 1 1 1 1 1 1 1 1 1 1 1 1 1 1 1 1 1 1 1 1 1 1 1 1 1 1 1 1 1 1 1 1 1 1 1 1 1 1 1 1 1 1 1 1 1 1 1 1 1 1 1 1 1 1 1 1 1 1 1 1 1 1 1 1 1 1 1 1 1 1 1 1 1 1 1 1 1 1 1 1 1 1\n"
     ]
    }
   ],
   "source": [
    "# Print-out of counts only\n",
    "UMI_dist_plot(\"Sample\", \"Log\", False, True)"
   ]
  },
  {
   "cell_type": "markdown",
   "metadata": {},
   "source": [
    "## .fastq File Output"
   ]
  },
  {
   "cell_type": "code",
   "execution_count": 24,
   "metadata": {},
   "outputs": [
    {
     "name": "stdout",
     "output_type": "stream",
     "text": [
      "Help on function write_fastq in module __main__:\n",
      "\n",
      "write_fastq(sample_name, file_name)\n",
      "    Takes in sample name and writes reads to fastq file\n",
      "    Inputs:\n",
      "        sample_name = sample name as string\n",
      "        file_name = output file name as string\n",
      "    Outputs:\n",
      "        .fastq file in same working directory containing filtered reads\n",
      "\n"
     ]
    }
   ],
   "source": [
    "help(write_fastq)"
   ]
  },
  {
   "cell_type": "code",
   "execution_count": 25,
   "metadata": {},
   "outputs": [
    {
     "name": "stdout",
     "output_type": "stream",
     "text": [
      "Reads written to: InsertionReads//Sample.fastq\n"
     ]
    }
   ],
   "source": [
    "#For this line to work correctly, create a sub-folder named InsertionReads\n",
    "write_fastq(\"Sample\", \"InsertionReads//Sample.fastq\")"
   ]
  },
  {
   "cell_type": "code",
   "execution_count": 26,
   "metadata": {},
   "outputs": [
    {
     "name": "stdout",
     "output_type": "stream",
     "text": [
      "Reads written to: InsertionReads//IB43-ID4_uL.fastq\n"
     ]
    }
   ],
   "source": [
    "write_fastq(\"IB43-ID4_uL\", \"InsertionReads//IB43-ID4_uL.fastq\")"
   ]
  },
  {
   "cell_type": "code",
   "execution_count": 27,
   "metadata": {},
   "outputs": [
    {
     "name": "stdout",
     "output_type": "stream",
     "text": [
      "Reads written to: InsertionReads//IB43-ID9_uL.fastq\n"
     ]
    }
   ],
   "source": [
    "write_fastq(\"IB43-ID9_uL\", \"InsertionReads//IB43-ID9_uL.fastq\")"
   ]
  },
  {
   "cell_type": "code",
   "execution_count": 28,
   "metadata": {},
   "outputs": [
    {
     "name": "stdout",
     "output_type": "stream",
     "text": [
      "Reads written to: InsertionReads//IB43-ID17_uL.fastq\n"
     ]
    }
   ],
   "source": [
    "write_fastq(\"IB43-ID17_uL\", \"InsertionReads//IB43-ID17_uL.fastq\")"
   ]
  },
  {
   "cell_type": "code",
   "execution_count": 29,
   "metadata": {},
   "outputs": [
    {
     "name": "stdout",
     "output_type": "stream",
     "text": [
      "Reads written to: InsertionReads//IB43-ID19_uL.fastq\n"
     ]
    }
   ],
   "source": [
    "write_fastq(\"IB43-ID19_uL\", \"InsertionReads//IB43-ID19_uL.fastq\")"
   ]
  },
  {
   "cell_type": "markdown",
   "metadata": {},
   "source": [
    "## Deprecated Code"
   ]
  },
  {
   "cell_type": "code",
   "execution_count": null,
   "metadata": {},
   "outputs": [],
   "source": [
    "#Other packages\n",
    "from Bio import motifs\n",
    "from Bio import pairwise2\n",
    "import pickle\n",
    "from sklearn import preprocessing\n",
    "from Bio.Seq import Seq"
   ]
  },
  {
   "cell_type": "code",
   "execution_count": null,
   "metadata": {},
   "outputs": [],
   "source": [
    "EXPERIMENT_MARKER = '.fastq'"
   ]
  },
  {
   "cell_type": "code",
   "execution_count": null,
   "metadata": {},
   "outputs": [],
   "source": [
    "def ham_dist(str1, str2):\n",
    "    return sum(ch1 != ch2 for ch1,ch2 in zip(str1,str2))\n",
    "\n",
    " #ham_dist(target_match, read_sequence_f[:len(target_match)])<=3:"
   ]
  },
  {
   "cell_type": "code",
   "execution_count": null,
   "metadata": {},
   "outputs": [],
   "source": [
    "def compare_aligned_nucleotides(ref, seq, return_mismatched_bases = False, num_mismatched_bases = 0):\n",
    "    counter = 0\n",
    "    for ref_b, seq_b in zip(ref,seq):\n",
    "        if ref_b != seq_b and ref_b != 'N':\n",
    "            break\n",
    "        counter += 1\n",
    "    if return_mismatched_bases:\n",
    "        bases = seq_b[counter+1:counter+1+num_mismatched_bases]\n",
    "        return(counter, bases)\n",
    "    else:\n",
    "        return counter"
   ]
  },
  {
   "cell_type": "code",
   "execution_count": null,
   "metadata": {},
   "outputs": [],
   "source": [
    "def compare_aligned_nucleotides_v2(ref, seq):\n",
    "    ref = Seq(ref.upper())\n",
    "    seq = Seq(seq.upper())\n",
    "    alignment = pairwise2.align.localxd(ref,seq, -1000, -10, -4, -0.1, penalize_end_gaps = False, one_alignment_only=True)\n",
    "    gap_counter = 0\n",
    "    mismatch_counter = 0\n",
    "    counter = 0\n",
    "    last_matching_base = 0\n",
    "    for ref_b, seq_b in zip(alignment[0][0], alignment[0][1]):\n",
    "        if seq_b == '-':\n",
    "            gap_counter += 1\n",
    "        elif ref_b != seq_b and ref_b != 'N':\n",
    "            mismatch_counter +=1\n",
    "        elif ref_b == seq_b or ref_b == 'N':\n",
    "            gap_counter = 0\n",
    "            mismatch_counter = 0\n",
    "            last_matching_base = counter\n",
    "\n",
    "        if gap_counter > 4 or mismatch_counter > 3:\n",
    "            break\n",
    "        \n",
    "        counter += 1\n",
    "            \n",
    "    return last_matching_base"
   ]
  },
  {
   "cell_type": "code",
   "execution_count": null,
   "metadata": {},
   "outputs": [],
   "source": [
    "pickle.dump(data, open('data.p', 'wb'))"
   ]
  },
  {
   "cell_type": "code",
   "execution_count": null,
   "metadata": {},
   "outputs": [],
   "source": [
    "# Load data if starting a new session\n",
    "data = pickle.load( open( \"data.p\", \"rb\" ) )"
   ]
  },
  {
   "cell_type": "code",
   "execution_count": null,
   "metadata": {},
   "outputs": [],
   "source": [
    "## Plot Insertions\n",
    "for sample in data:\n",
    "    name = sample[0]\n",
    "    insertions = sample[1]\n",
    "    insertions['index'] = np.array(insertions.index.tolist())\n",
    "    insertions.to_csv(name + '_positions.csv')"
   ]
  },
  {
   "cell_type": "code",
   "execution_count": null,
   "metadata": {
    "scrolled": true
   },
   "outputs": [],
   "source": [
    "#Get Pam data\n",
    "for sample in data[1:]:\n",
    "    #Get Data and Control\n",
    "    name = sample[0]\n",
    "    print(name)\n",
    "    pams = sample[1].groupby(lambda x:x[-6:]).sum()\n",
    "    control = data[0][1].groupby(lambda x:x[-6:]).sum()\n",
    "    name_c = data[0][0]\n",
    "    \n",
    "    #Normalize by Number of Reads\n",
    "    pams_sum = pams/pams.sum()\n",
    "    control_sum = control/control.sum()\n",
    "    \n",
    "    #Get pams with okay number of reads\n",
    "    control_ok = control_sum >= control_sum.quantile(0.25).values[0]\n",
    "    pams_sum = pams_sum.loc[control_ok[name_c]==True,:]\n",
    "    control_sum = control_sum.loc[control_ok[name_c]==True,:]\n",
    "    \n",
    "    \n",
    "    #Normalize by Control\n",
    "    pams_norm = pd.DataFrame(np.divide(pams_sum.values, control_sum.values), index = pams_sum.index)\n",
    "    pams_norm = pams_norm.replace([np.inf, -np.inf,0], 1e-9)\n",
    "    pams_norm.groupby(lambda x:x[-4:]).sum().to_csv(name + '_norm_reads_for_wheel.csv')\n",
    "    \n",
    "    #Sort Data and log2\n",
    "    sorted_pams = pams_norm.sort_values(by=0, ascending = False)\n",
    "    sorted_pams = sorted_pams.apply(np.log2)\n",
    "    \n",
    "    #Make data for PAM wheel\n",
    "    pam_wheel_data = sorted_pams.to_csv(name + '_log2fc.csv')\n",
    "\n",
    "    #Get Significant PAMS and create sequence motifs\n",
    "    sig_pams = sorted_pams.loc[sorted_pams[0]>4].index.tolist()\n",
    "    #sig_pams_down = sorted_pams.loc[sorted_pams[0]<-2].index.tolist()\n",
    "    #num_pams = int(len(sorted_pams)*p_pams)\n",
    "    #sig_pams = sorted_pams.iloc[0:num_pams, :].index.tolist()\n",
    "    pam_seq = []\n",
    "    for pam in sig_pams:\n",
    "        pam_seq.append(Seq(pam))\n",
    "    motif = motifs.create(pam_seq)\n",
    "    print(motif)\n",
    "    print('\\n')\n",
    "#     pam_seq_down = []\n",
    "#     for pam in sig_pams_down:\n",
    "#         pam_seq_down.append(Seq(pam))\n",
    "#     motif_down = motifs.create(pam_seq_down)\n",
    "#    print(motif_down)                  "
   ]
  }
 ],
 "metadata": {
  "kernelspec": {
   "display_name": "Python 3",
   "language": "python",
   "name": "python3"
  },
  "language_info": {
   "codemirror_mode": {
    "name": "ipython",
    "version": 3
   },
   "file_extension": ".py",
   "mimetype": "text/x-python",
   "name": "python",
   "nbconvert_exporter": "python",
   "pygments_lexer": "ipython3",
   "version": "3.7.0"
  }
 },
 "nbformat": 4,
 "nbformat_minor": 2
}
