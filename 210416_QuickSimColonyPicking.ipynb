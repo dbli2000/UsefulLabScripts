{
 "cells": [
  {
   "cell_type": "markdown",
   "metadata": {},
   "source": [
    "# NNK Colony Picking Simulations\n",
    "\n",
    "## Overview:\n",
    "- Quick and dirty simulation for simulating the number and distribution of mutants selected after picking colonies from a NNK library\n",
    "- Want to know:\n",
    "    - How many expected mutants after N colonies\n",
    "    - How many expected mutants after picking K new having already picked N\n",
    "    - Distribution of counts across all amino acids\n",
    "    "
   ]
  },
  {
   "cell_type": "code",
   "execution_count": 1,
   "metadata": {},
   "outputs": [],
   "source": [
    "#Import helpful packages\n",
    "import itertools\n",
    "import math\n",
    "import numpy as np\n",
    "import random\n",
    "from tqdm.notebook import tnrange, tqdm_notebook, tqdm\n",
    "\n",
    "#Packages for data analysis and plotting\n",
    "import pandas as pd\n",
    "import seaborn as sns\n",
    "import matplotlib.pyplot as plt"
   ]
  },
  {
   "cell_type": "code",
   "execution_count": 2,
   "metadata": {},
   "outputs": [],
   "source": [
    "#Need a mapping from codon to AA... but need not actually write out codons\n",
    "#Instead, just make list of possible outcomes with counts\n",
    "\n",
    "outcomes = [\"M\", \"I\", \"T\", \"T\", \"K\", \"N\", \"S\", \"R\",\n",
    "            \"G\", \"G\", \"D\", \"E\", \"A\", \"A\", \"V\", \"V\",\n",
    "            \"R\", \"R\", \"H\", \"Q\", \"P\", \"P\", \"L\", \"L\",\n",
    "            \"L\", \"F\", \"S\", \"S\", \"Y\", \"*\", \"C\", \"W\"]"
   ]
  },
  {
   "cell_type": "code",
   "execution_count": 3,
   "metadata": {},
   "outputs": [],
   "source": [
    "def single_trial(n, failure_rate):\n",
    "    counts = {}\n",
    "    aas = []\n",
    "    unique = []\n",
    "    unique_aas = []\n",
    "    for col in range(n):\n",
    "        if random.random() >= failure_rate:\n",
    "            current_aa = random.choice(outcomes)\n",
    "            aas.append(current_aa)\n",
    "            counts[current_aa] = counts.get(current_aa,0)+1\n",
    "        unique.append(len(counts))\n",
    "    for key, val in counts.items():\n",
    "        unique_aas.append(key)\n",
    "    return [unique, aas, unique_aas]"
   ]
  },
  {
   "cell_type": "code",
   "execution_count": 4,
   "metadata": {},
   "outputs": [
    {
     "data": {
      "application/vnd.jupyter.widget-view+json": {
       "model_id": "20b0ac9f7b2d430a9a82f913e8ed178f",
       "version_major": 2,
       "version_minor": 0
      },
      "text/plain": [
       "HBox(children=(FloatProgress(value=0.0, description='Iterations complete', max=20000.0, style=ProgressStyle(de…"
      ]
     },
     "metadata": {},
     "output_type": "display_data"
    },
    {
     "name": "stdout",
     "output_type": "stream",
     "text": [
      "\n",
      "[ 0.84815  1.65895  2.4253   3.151    3.8439   4.50215  5.1294   5.7353\n",
      "  6.30985  6.85915  7.37705  7.87745  8.3496   8.8058   9.24005  9.6595\n",
      " 10.05445 10.4298  10.78945 11.13865 11.4751  11.79945 12.11585 12.40675\n",
      " 12.69155 12.9694  13.22955 13.48265 13.7259  13.9636  14.19245 14.41075\n",
      " 14.61945 14.8188  15.0169  15.20105 15.38065 15.556   15.7265  15.89065\n",
      " 16.0439  16.19255 16.34135 16.48165 16.6142  16.7485  16.87825 16.9999\n",
      " 17.1203  17.23645 17.34825 17.45435 17.55875 17.65735 17.752   17.84845\n",
      " 17.9371  18.02585 18.11015 18.1941  18.27445 18.34945 18.4268  18.49915\n",
      " 18.5733  18.64595 18.71755 18.78175 18.84515 18.908   18.9646  19.02525\n",
      " 19.08355 19.1387  19.18825 19.23615 19.2864  19.3348  19.38215 19.4266\n",
      " 19.47465 19.51705 19.5595  19.5977  19.6358  19.67355 19.711   19.74605\n",
      " 19.77985 19.81355 19.8479  19.879   19.9082  19.9364  19.9674  19.99635\n",
      " 20.02585 20.0519  20.0776  20.10275 20.1272  20.1512  20.174   20.19825\n",
      " 20.21895 20.2414  20.25905 20.27785 20.29785 20.31555 20.3323  20.35105\n",
      " 20.3689  20.38675 20.4054  20.42155 20.4366  20.4528  20.4668  20.48015]\n"
     ]
    },
    {
     "data": {
      "text/plain": [
       "<BarContainer object of 120 artists>"
      ]
     },
     "execution_count": 4,
     "metadata": {},
     "output_type": "execute_result"
    },
    {
     "data": {
      "image/png": "[encoded data removed]",
      "text/plain": [
       "<Figure size 432x288 with 1 Axes>"
      ]
     },
     "metadata": {
      "needs_background": "light"
     },
     "output_type": "display_data"
    }
   ],
   "source": [
    "random.seed(42) #the answer to life\n",
    "total_iters = 20000\n",
    "num_colonies = 24+96\n",
    "failure_rate = 0.15\n",
    "\n",
    "#Initialize lists\n",
    "uniques = []\n",
    "aggregate_aas = []\n",
    "aggregate_unis = []\n",
    "\n",
    "#Run simulated trials\n",
    "for iterations in tqdm(range(total_iters), desc='Iterations complete'):\n",
    "    iter_unique, iter_aas, iter_unis = single_trial(num_colonies, failure_rate)\n",
    "    uniques.append(iter_unique)\n",
    "    aggregate_aas=aggregate_aas+iter_aas\n",
    "    aggregate_unis=aggregate_unis+iter_unis\n",
    "    \n",
    "uniques = np.array(uniques)\n",
    "print(np.mean(uniques, 0))\n",
    "\n",
    "expected_per_trial = np.mean(uniques, 0)\n",
    "plt.bar(np.arange(len(expected_per_trial)), expected_per_trial)"
   ]
  },
  {
   "cell_type": "code",
   "execution_count": 5,
   "metadata": {},
   "outputs": [
    {
     "data": {
      "text/plain": [
       "Text(0, 0.5, 'Expected # of unique AAs at given position')"
      ]
     },
     "execution_count": 5,
     "metadata": {},
     "output_type": "execute_result"
    },
    {
     "data": {
      "image/png": "[encoded data removed]",
      "text/plain": [
       "<Figure size 1440x576 with 1 Axes>"
      ]
     },
     "metadata": {
      "needs_background": "light"
     },
     "output_type": "display_data"
    }
   ],
   "source": [
    "#Slightly bigger plot:\n",
    "plt.figure(figsize=(20, 8)) \n",
    "plt.bar(np.arange(len(expected_per_trial)), expected_per_trial)\n",
    "plt.xlabel(\"Colony #\", fontsize=16)  \n",
    "plt.ylabel(\"Expected # of unique AAs at given position\", fontsize=16)"
   ]
  },
  {
   "cell_type": "markdown",
   "metadata": {},
   "source": [
    "## Frequency breakdown\n",
    "\n",
    "AAs with 3 codons: L, R, S\n",
    "\n",
    "AAs with 2 codons: A, G, P, T, V\n",
    "\n",
    "AAs with 1 codon: C, D, E, F, H, I, K, M, N, Q, W, Y, *, "
   ]
  },
  {
   "cell_type": "code",
   "execution_count": 6,
   "metadata": {},
   "outputs": [
    {
     "name": "stdout",
     "output_type": "stream",
     "text": [
      "{'I': 63874, 'V': 127268, 'S': 191086, 'N': 63762, 'T': 128103, 'R': 191284, 'M': 63865, 'D': 63814, 'P': 127270, 'A': 126957, 'L': 191197, '*': 63697, 'K': 64038, 'H': 63685, 'F': 64272, 'W': 63440, 'G': 127389, 'E': 63632, 'Q': 63668, 'Y': 63469, 'C': 63383}\n",
      "I Frequency: 0.026614166666666668\n",
      "V Frequency: 0.05302833333333333\n",
      "S Frequency: 0.07961916666666667\n",
      "N Frequency: 0.0265675\n",
      "T Frequency: 0.05337625\n",
      "R Frequency: 0.07970166666666667\n",
      "M Frequency: 0.026610416666666668\n",
      "D Frequency: 0.026589166666666667\n",
      "P Frequency: 0.05302916666666667\n",
      "A Frequency: 0.05289875\n",
      "L Frequency: 0.07966541666666667\n",
      "* Frequency: 0.026540416666666667\n",
      "K Frequency: 0.0266825\n",
      "H Frequency: 0.026535416666666665\n",
      "F Frequency: 0.02678\n",
      "W Frequency: 0.026433333333333333\n",
      "G Frequency: 0.05307875\n",
      "E Frequency: 0.026513333333333333\n",
      "Q Frequency: 0.026528333333333334\n",
      "Y Frequency: 0.026445416666666666\n",
      "C Frequency: 0.026409583333333334\n"
     ]
    }
   ],
   "source": [
    "#Count of final total aa frequencies\n",
    "#Sanity check, should match frequency distribution\n",
    "\n",
    "final_count = {}\n",
    "for aa in aggregate_aas:\n",
    "    final_count[aa]=final_count.get(aa,0)+1\n",
    "    \n",
    "print(final_count)\n",
    "\n",
    "for key, val in final_count.items():\n",
    "    print(f\"{key} Frequency: {val/(num_colonies*total_iters)}\")"
   ]
  },
  {
   "cell_type": "code",
   "execution_count": 7,
   "metadata": {},
   "outputs": [
    {
     "data": {
      "application/vnd.jupyter.widget-view+json": {
       "model_id": "7638a0bacc264910a54eaa55fa241dee",
       "version_major": 2,
       "version_minor": 0
      },
      "text/plain": [
       "HBox(children=(FloatProgress(value=0.0, description='Iterations complete', max=20000.0, style=ProgressStyle(de…"
      ]
     },
     "metadata": {},
     "output_type": "display_data"
    },
    {
     "name": "stdout",
     "output_type": "stream",
     "text": [
      "\n",
      "{'S': 17247, 'C': 9524, 'E': 9428, 'V': 14596, 'M': 9478, 'T': 14599, 'W': 9457, 'L': 17210, 'N': 9588, '*': 9447, 'P': 14557, 'G': 14577, 'K': 9457, 'Y': 9600, 'R': 17228, 'D': 9573, 'Q': 9540, 'I': 9553, 'F': 9510, 'H': 9687, 'A': 14694}\n",
      "Expected S Frequency: 0.86235\n",
      "Expected C Frequency: 0.4762\n",
      "Expected E Frequency: 0.47140000000000004\n",
      "Expected V Frequency: 0.7298\n",
      "Expected M Frequency: 0.4739\n",
      "Expected T Frequency: 0.72995\n",
      "Expected W Frequency: 0.47285\n",
      "Expected L Frequency: 0.8605\n",
      "Expected N Frequency: 0.4794\n",
      "Expected * Frequency: 0.47235000000000005\n",
      "Expected P Frequency: 0.72785\n",
      "Expected G Frequency: 0.72885\n",
      "Expected K Frequency: 0.47285\n",
      "Expected Y Frequency: 0.48\n",
      "Expected R Frequency: 0.8614\n",
      "Expected D Frequency: 0.47865\n",
      "Expected Q Frequency: 0.477\n",
      "Expected I Frequency: 0.47765\n",
      "Expected F Frequency: 0.47550000000000003\n",
      "Expected H Frequency: 0.48435000000000006\n",
      "Expected A Frequency: 0.7347\n"
     ]
    }
   ],
   "source": [
    "#Run again for only 24 and print out expected of each aa after 24\n",
    "random.seed(21) #half of the answer to life\n",
    "total_iters = 20000\n",
    "num_colonies = 24\n",
    "failure_rate = 0.15\n",
    "\n",
    "uniques = []\n",
    "aggregate_aas = []\n",
    "aggregate_unis = []\n",
    "\n",
    "for iterations in tqdm(range(total_iters), desc='Iterations complete'):\n",
    "    iter_unique, iter_aas, iter_unis = single_trial(num_colonies, failure_rate)\n",
    "    uniques.append(iter_unique)\n",
    "    aggregate_aas=aggregate_aas+iter_aas\n",
    "    aggregate_unis=aggregate_unis+iter_unis\n",
    "    \n",
    "final_uni_count = {}\n",
    "for aa in aggregate_unis:\n",
    "    final_uni_count[aa]=final_uni_count.get(aa,0)+1\n",
    "    \n",
    "print(final_uni_count)\n",
    "\n",
    "for key, val in final_uni_count.items():\n",
    "    print(f\"Expected {key} Frequency: {val/(num_colonies*total_iters)*24}\")"
   ]
  },
  {
   "cell_type": "code",
   "execution_count": null,
   "metadata": {},
   "outputs": [],
   "source": []
  }
 ],
 "metadata": {
  "kernelspec": {
   "display_name": "Python 3",
   "language": "python",
   "name": "python3"
  },
  "language_info": {
   "codemirror_mode": {
    "name": "ipython",
    "version": 3
   },
   "file_extension": ".py",
   "mimetype": "text/x-python",
   "name": "python",
   "nbconvert_exporter": "python",
   "pygments_lexer": "ipython3",
   "version": "3.7.0"
  }
 },
 "nbformat": 4,
 "nbformat_minor": 4
}
